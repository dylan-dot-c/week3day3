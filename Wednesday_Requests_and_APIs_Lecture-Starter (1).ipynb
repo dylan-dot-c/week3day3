{
 "cells": [
  {
   "cell_type": "markdown",
   "metadata": {},
   "source": [
    "# Python Requests"
   ]
  },
  {
   "cell_type": "markdown",
   "metadata": {},
   "source": [
    "## Tasks Today:\n",
    "\n",
    "   \n",
    "1) <b>Requests package</b> <br>\n",
    " &nbsp;&nbsp;&nbsp;&nbsp; a) pip install <br>\n",
    " &nbsp;&nbsp;&nbsp;&nbsp; b) requests.get <br>\n",
    " &nbsp;&nbsp;&nbsp;&nbsp; c) Response object <br>\n",
    " &nbsp;&nbsp;&nbsp;&nbsp; d) .content and .text <br>\n",
    " &nbsp;&nbsp;&nbsp;&nbsp; e) JSON <br>  \n",
    "2) <b>Python Wrapper</b> <br>\n",
    " &nbsp;&nbsp;&nbsp;&nbsp; a) API key and base url<br>\n",
    " &nbsp;&nbsp;&nbsp;&nbsp; b) Creating a class for our requests<br>\n",
    " &nbsp;&nbsp;&nbsp;&nbsp; c) Private method for getting the response data <br>\n",
    " &nbsp;&nbsp;&nbsp;&nbsp; d) Public method for displaying the data <br>\n",
    " &nbsp;&nbsp;&nbsp;&nbsp; e) In-Class Exercise #1 - Add a method for getting the high and lows for the next 3 days <br>\n",
    "3) <b>Exercises</b> <br>\n",
    " &nbsp;&nbsp;&nbsp;&nbsp; a) Exercise #1 - Pokemon Wrapper  <br>"
   ]
  },
  {
   "cell_type": "code",
   "execution_count": 3,
   "metadata": {},
   "outputs": [],
   "source": [
    "from faker import Faker\n",
    "\n",
    "fake = Faker()"
   ]
  },
  {
   "cell_type": "code",
   "execution_count": 4,
   "metadata": {},
   "outputs": [
    {
     "name": "stdout",
     "output_type": "stream",
     "text": [
      "Requirement already satisfied: Faker in c:\\users\\heslo\\anaconda3\\lib\\site-packages (19.6.2)\n",
      "Requirement already satisfied: python-dateutil>=2.4 in c:\\users\\heslo\\anaconda3\\lib\\site-packages (from Faker) (2.8.2)\n",
      "Requirement already satisfied: six>=1.5 in c:\\users\\heslo\\anaconda3\\lib\\site-packages (from python-dateutil>=2.4->Faker) (1.16.0)\n"
     ]
    }
   ],
   "source": [
    "!pip install Faker\n"
   ]
  },
  {
   "cell_type": "code",
   "execution_count": 44,
   "metadata": {
    "scrolled": false
   },
   "outputs": [
    {
     "name": "stdout",
     "output_type": "stream",
     "text": [
      "[{'first_name': 'Benjamin', 'last_name': 'Russell', 'city': 'New Christina', 'email': 'benjamin.russell@king-young.com', 'occupation': {'company': 'Perry-Reynolds', 'position': 'Nutritional therapist'}}, {'first_name': 'Jeffrey', 'last_name': 'Schultz', 'city': 'Cunninghamside', 'email': 'jeffrey.schultz@james-roth.com', 'occupation': {'company': 'James-Jones', 'position': 'Insurance underwriter'}}, {'first_name': 'Shelby', 'last_name': 'Ward', 'city': 'Andersonchester', 'email': 'shelby.ward@collins.com', 'occupation': {'company': 'Klein, Spencer and Wilson', 'position': 'Sports therapist'}}, {'first_name': 'Sean', 'last_name': 'Morrison', 'city': 'Rachelville', 'email': 'sean.morrison@smith.net', 'occupation': {'company': 'Davis Group', 'position': 'Speech and language therapist'}}, {'first_name': 'Melanie', 'last_name': 'Cain', 'city': 'Lake Jessicatown', 'email': 'melanie.cain@berry-wiley.com', 'occupation': {'company': 'Chambers-Daniel', 'position': 'Hotel manager'}}, {'first_name': 'Catherine', 'last_name': 'Garrison', 'city': 'New Nicoleview', 'email': 'catherine.garrison@moore-vincent.net', 'occupation': {'company': 'Henry, Brown and Garcia', 'position': 'Marketing executive'}}, {'first_name': 'Ariana', 'last_name': 'Allen', 'city': 'Baileyview', 'email': 'ariana.allen@melendez.info', 'occupation': {'company': 'Welch Group', 'position': 'Art gallery manager'}}, {'first_name': 'Manuel', 'last_name': 'Beltran', 'city': 'Austinhaven', 'email': 'manuel.beltran@cole-simpson.org', 'occupation': {'company': 'Rhodes-Hodges', 'position': 'Hotel manager'}}, {'first_name': 'Nancy', 'last_name': 'Thomas', 'city': 'Davidview', 'email': 'nancy.thomas@adams.com', 'occupation': {'company': 'Jones Ltd', 'position': 'Press photographer'}}, {'first_name': 'Stacey', 'last_name': 'Lawrence', 'city': 'Lake Sara', 'email': 'stacey.lawrence@ashley.com', 'occupation': {'company': 'Novak LLC', 'position': 'Scientist, forensic'}}]\n"
     ]
    }
   ],
   "source": [
    "data = []\n",
    "for _ in range(10):\n",
    "    first = fake.first_name()\n",
    "    last = fake.last_name()\n",
    "    person_info = {\n",
    "        'first_name': first,\n",
    "        'last_name': last,\n",
    "        'city': fake.city(),\n",
    "        'email': f'{first.lower()}.{last.lower()}@{fake.domain_name()}',\n",
    "        'occupation': {\n",
    "            'company': fake.company(),\n",
    "            'position': fake.job()\n",
    "        }\n",
    "    }\n",
    "    data.append(person_info)\n",
    "print(data)"
   ]
  },
  {
   "cell_type": "markdown",
   "metadata": {},
   "source": [
    "#### Warm Up\n",
    "Write a function that takes in a name (first or last) and returns the position and company name of that person. If the user is not found, return -1"
   ]
  },
  {
   "cell_type": "code",
   "execution_count": null,
   "metadata": {},
   "outputs": [],
   "source": [
    "\n",
    "\n",
    "# Example 1\n",
    "# get_person_info('Adam')\n",
    "# Output: 'Records manager at Odom, Harper, and Allen'\n",
    "\n",
    "# Example 2\n",
    "# get_person_info('Burns')\n",
    "# Output: 'Applications developer at Sanders-Ryan'\n",
    "\n",
    "# Example 3\n",
    "# get_person_info('Alice')\n",
    "# Output: -1"
   ]
  },
  {
   "cell_type": "code",
   "execution_count": 37,
   "metadata": {},
   "outputs": [
    {
     "data": {
      "text/plain": [
       "'Records manager at Odom, Harper and Allen'"
      ]
     },
     "execution_count": 37,
     "metadata": {},
     "output_type": "execute_result"
    }
   ],
   "source": [
    "data = [\n",
    "    {\n",
    "        'first_name': 'Adam',\n",
    "        'last_name': 'Simpson',\n",
    "        'city': 'West Maureenland',\n",
    "        'email': 'adam.simpson@paul-williams.com',\n",
    "        'occupation': {\n",
    "            'company': 'Odom, Harper and Allen',\n",
    "            'position': 'Records manager'\n",
    "        }\n",
    "    },\n",
    "    {\n",
    "        'first_name': 'Robert',\n",
    "        'last_name': 'Miller',\n",
    "        'city': 'South Jaredburgh',\n",
    "        'email': 'robert.miller@allen.org',\n",
    "        'occupation': {\n",
    "            'company': 'Roberts-Jackson',\n",
    "            'position': 'Media planner'\n",
    "        }\n",
    "    },\n",
    "    {\n",
    "        'first_name': 'Edwin',\n",
    "        'last_name': 'Johnson',\n",
    "        'city': 'Lake Kimberly',\n",
    "        'email': 'edwin.johnson@sanders.biz',\n",
    "        'occupation': {\n",
    "            'company': 'Hart, Jones and Malone',\n",
    "            'position': 'Therapist, speech and language'\n",
    "        }\n",
    "    },\n",
    "    {\n",
    "        'first_name': 'Gail',\n",
    "        'last_name': 'Castro',\n",
    "        'city': 'Brianchester',\n",
    "        'email': 'gail.castro@suarez-sullivan.org',\n",
    "        'occupation': {\n",
    "            'company': 'Duncan-Gallagher',\n",
    "            'position': 'Designer, multimedia'\n",
    "        }\n",
    "    },\n",
    "    {\n",
    "        'first_name': 'Andre',\n",
    "        'last_name': 'Burns',\n",
    "        'city': 'New Samuelside',\n",
    "        'email': 'andre.burns@love.com',\n",
    "        'occupation': {\n",
    "            'company': 'Sanders-Ryan',\n",
    "            'position': 'Applications developer'\n",
    "        }\n",
    "    },\n",
    "    {\n",
    "        'first_name': 'Nicole',\n",
    "        'last_name': 'Maynard',\n",
    "        'city': 'Teresaville',\n",
    "        'email': 'nicole.maynard@chavez.com',\n",
    "        'occupation': {\n",
    "            'company': 'Hoffman, Reynolds and Wilson',\n",
    "            'position': 'Community education officer'\n",
    "        }\n",
    "    },\n",
    "    {\n",
    "        'first_name': 'Megan',\n",
    "        'last_name': 'Mcdonald',\n",
    "        'city': 'Walkerfurt',\n",
    "        'email': 'megan.mcdonald@guzman.info',\n",
    "        'occupation': {\n",
    "            'company': 'King Ltd',\n",
    "            'position': 'Doctor, general practice'\n",
    "        }\n",
    "    },\n",
    "    {\n",
    "        'first_name': 'Stephen',\n",
    "        'last_name': 'Young',\n",
    "        'city': 'South Jeffrey',\n",
    "        'email': 'stephen.young@smith.biz',\n",
    "        'occupation': {\n",
    "            'company': 'Hernandez LLC',\n",
    "            'position': 'Environmental manager'\n",
    "        }\n",
    "    },\n",
    "    {\n",
    "        'first_name': 'Daniel',\n",
    "        'last_name': 'Deleon',\n",
    "        'city': 'Yatesburgh',\n",
    "        'email': 'daniel.deleon@mcmahon.org',\n",
    "        'occupation': {\n",
    "            'company': 'Nelson-Wilson',\n",
    "            'position': 'Sports development officer'\n",
    "        }\n",
    "    },\n",
    "    {\n",
    "        'first_name': 'Patricia',\n",
    "        'last_name': 'Pacheco',\n",
    "        'city': 'South Donnamouth',\n",
    "        'email': 'patricia.pacheco@lee-wilson.com',\n",
    "        'occupation': {\n",
    "            'company': 'Giles, Williams and Jones',\n",
    "            'position': 'Theatre manager'\n",
    "        }\n",
    "    }\n",
    "]\n",
    "\n",
    "def get_person_info(name):\n",
    "    name = name.lower()\n",
    "    for person in data:\n",
    "        if person[\"first_name\"].lower() == name or person[\"last_name\"].lower() == name:\n",
    "            company = person[\"occupation\"][\"company\"]\n",
    "            position = person['occupation'][\"position\"]\n",
    "            return (f\"{position} at {company}\")\n",
    "        \n",
    "    return -1\n",
    "        \n",
    "            \n",
    "#         print(person[\"first_name\"], person[\"last_name\"], person[\"occupation\"][\"company\"], person['occupation'][\"position\"])\n",
    "    \n",
    "get_person_info(\"ADAM\")\n"
   ]
  },
  {
   "cell_type": "code",
   "execution_count": 41,
   "metadata": {},
   "outputs": [
    {
     "data": {
      "text/plain": [
       "'Records manager at Odom, Harper and Allen'"
      ]
     },
     "execution_count": 41,
     "metadata": {},
     "output_type": "execute_result"
    }
   ],
   "source": [
    "get_person_info('Adam')"
   ]
  },
  {
   "cell_type": "code",
   "execution_count": 42,
   "metadata": {},
   "outputs": [
    {
     "data": {
      "text/plain": [
       "'Applications developer at Sanders-Ryan'"
      ]
     },
     "execution_count": 42,
     "metadata": {},
     "output_type": "execute_result"
    }
   ],
   "source": [
    "get_person_info('Burns')"
   ]
  },
  {
   "cell_type": "code",
   "execution_count": 60,
   "metadata": {},
   "outputs": [
    {
     "name": "stdout",
     "output_type": "stream",
     "text": [
      "[[1, 2, 3], [1, 2]]\n"
     ]
    }
   ],
   "source": [
    "get_person_info('Alice')\n",
    "x = [[1,2,3], [1,2]]\n",
    "print(x)"
   ]
  },
  {
   "cell_type": "markdown",
   "metadata": {},
   "source": [
    "### Requests Package\n",
    "<a href='https://docs.python-requests.org/en/latest/'>Docs</a>"
   ]
  },
  {
   "cell_type": "markdown",
   "metadata": {},
   "source": [
    "#### Install and import package"
   ]
  },
  {
   "cell_type": "code",
   "execution_count": 65,
   "metadata": {},
   "outputs": [
    {
     "data": {
      "text/plain": [
       "<module 'requests' from 'C:\\\\Users\\\\heslo\\\\anaconda3\\\\Lib\\\\site-packages\\\\requests\\\\__init__.py'>"
      ]
     },
     "execution_count": 65,
     "metadata": {},
     "output_type": "execute_result"
    }
   ],
   "source": [
    "import requests\n",
    "\n",
    "requests"
   ]
  },
  {
   "cell_type": "markdown",
   "metadata": {},
   "source": [
    "#### requests get method"
   ]
  },
  {
   "cell_type": "code",
   "execution_count": 67,
   "metadata": {},
   "outputs": [
    {
     "name": "stdout",
     "output_type": "stream",
     "text": [
      "<Response [200]>\n",
      "Help on package requests:\n",
      "\n",
      "NAME\n",
      "    requests\n",
      "\n",
      "DESCRIPTION\n",
      "    Requests HTTP Library\n",
      "    ~~~~~~~~~~~~~~~~~~~~~\n",
      "    \n",
      "    Requests is an HTTP library, written in Python, for human beings.\n",
      "    Basic GET usage:\n",
      "    \n",
      "       >>> import requests\n",
      "       >>> r = requests.get('https://www.python.org')\n",
      "       >>> r.status_code\n",
      "       200\n",
      "       >>> b'Python is a programming language' in r.content\n",
      "       True\n",
      "    \n",
      "    ... or POST:\n",
      "    \n",
      "       >>> payload = dict(key1='value1', key2='value2')\n",
      "       >>> r = requests.post('https://httpbin.org/post', data=payload)\n",
      "       >>> print(r.text)\n",
      "       {\n",
      "         ...\n",
      "         \"form\": {\n",
      "           \"key1\": \"value1\",\n",
      "           \"key2\": \"value2\"\n",
      "         },\n",
      "         ...\n",
      "       }\n",
      "    \n",
      "    The other HTTP methods are supported - see `requests.api`. Full documentation\n",
      "    is at <https://requests.readthedocs.io>.\n",
      "    \n",
      "    :copyright: (c) 2017 by Kenneth Reitz.\n",
      "    :license: Apache 2.0, see LICENSE for more details.\n",
      "\n",
      "PACKAGE CONTENTS\n",
      "    __version__\n",
      "    _internal_utils\n",
      "    adapters\n",
      "    api\n",
      "    auth\n",
      "    certs\n",
      "    compat\n",
      "    cookies\n",
      "    exceptions\n",
      "    help\n",
      "    hooks\n",
      "    models\n",
      "    packages\n",
      "    sessions\n",
      "    status_codes\n",
      "    structures\n",
      "    utils\n",
      "\n",
      "FUNCTIONS\n",
      "    check_compatibility(urllib3_version, chardet_version, charset_normalizer_version)\n",
      "\n",
      "DATA\n",
      "    __author_email__ = 'me@kennethreitz.org'\n",
      "    __build__ = 143616\n",
      "    __cake__ = '✨ 🍰 ✨'\n",
      "    __copyright__ = 'Copyright Kenneth Reitz'\n",
      "    __description__ = 'Python HTTP for Humans.'\n",
      "    __license__ = 'Apache 2.0'\n",
      "    __title__ = 'requests'\n",
      "    __url__ = 'https://requests.readthedocs.io'\n",
      "    chardet_version = '4.0.0'\n",
      "    charset_normalizer_version = '2.0.4'\n",
      "    codes = <lookup 'status_codes'>\n",
      "\n",
      "VERSION\n",
      "    2.31.0\n",
      "\n",
      "AUTHOR\n",
      "    Kenneth Reitz\n",
      "\n",
      "FILE\n",
      "    c:\\users\\heslo\\anaconda3\\lib\\site-packages\\requests\\__init__.py\n",
      "\n",
      "\n"
     ]
    }
   ],
   "source": [
    "r = requests.get('https://api.github.com/users/naveenkrnl')\n",
    "\n",
    "print(r)\n",
    "help(requests)"
   ]
  },
  {
   "cell_type": "raw",
   "metadata": {},
   "source": [
    "#### Response object"
   ]
  },
  {
   "cell_type": "code",
   "execution_count": 68,
   "metadata": {},
   "outputs": [
    {
     "name": "stdout",
     "output_type": "stream",
     "text": [
      "<Response [200]>\n"
     ]
    }
   ],
   "source": [
    "print(r)"
   ]
  },
  {
   "cell_type": "code",
   "execution_count": null,
   "metadata": {
    "scrolled": true
   },
   "outputs": [],
   "source": []
  },
  {
   "cell_type": "markdown",
   "metadata": {},
   "source": [
    "#### .content"
   ]
  },
  {
   "cell_type": "code",
   "execution_count": 69,
   "metadata": {},
   "outputs": [
    {
     "name": "stdout",
     "output_type": "stream",
     "text": [
      "b'{\"login\":\"naveenkrnl\",\"id\":42272662,\"node_id\":\"MDQ6VXNlcjQyMjcyNjYy\",\"avatar_url\":\"https://avatars.githubusercontent.com/u/42272662?v=4\",\"gravatar_id\":\"\",\"url\":\"https://api.github.com/users/naveenkrnl\",\"html_url\":\"https://github.com/naveenkrnl\",\"followers_url\":\"https://api.github.com/users/naveenkrnl/followers\",\"following_url\":\"https://api.github.com/users/naveenkrnl/following{/other_user}\",\"gists_url\":\"https://api.github.com/users/naveenkrnl/gists{/gist_id}\",\"starred_url\":\"https://api.github.com/users/naveenkrnl/starred{/owner}{/repo}\",\"subscriptions_url\":\"https://api.github.com/users/naveenkrnl/subscriptions\",\"organizations_url\":\"https://api.github.com/users/naveenkrnl/orgs\",\"repos_url\":\"https://api.github.com/users/naveenkrnl/repos\",\"events_url\":\"https://api.github.com/users/naveenkrnl/events{/privacy}\",\"received_events_url\":\"https://api.github.com/users/naveenkrnl/received_events\",\"type\":\"User\",\"site_admin\":false,\"name\":\"Naveen Arora\",\"company\":null,\"blog\":\"\",\"location\":\"karnal, Haryana\",\"email\":null,\"hireable\":true,\"bio\":\"A person known by deeds\",\"twitter_username\":null,\"public_repos\":33,\"public_gists\":0,\"followers\":33,\"following\":7,\"created_at\":\"2018-08-10T12:53:15Z\",\"updated_at\":\"2023-08-27T08:34:56Z\"}'\n"
     ]
    }
   ],
   "source": [
    "print(r.content)"
   ]
  },
  {
   "cell_type": "markdown",
   "metadata": {},
   "source": [
    "#### .text"
   ]
  },
  {
   "cell_type": "code",
   "execution_count": 74,
   "metadata": {
    "scrolled": true
   },
   "outputs": [
    {
     "name": "stdout",
     "output_type": "stream",
     "text": [
      "{\"login\":\"naveenkrnl\",\"id\":42272662,\"node_id\":\"MDQ6VXNlcjQyMjcyNjYy\",\"avatar_url\":\"https://avatars.githubusercontent.com/u/42272662?v=4\",\"gravatar_id\":\"\",\"url\":\"https://api.github.com/users/naveenkrnl\",\"html_url\":\"https://github.com/naveenkrnl\",\"followers_url\":\"https://api.github.com/users/naveenkrnl/followers\",\"following_url\":\"https://api.github.com/users/naveenkrnl/following{/other_user}\",\"gists_url\":\"https://api.github.com/users/naveenkrnl/gists{/gist_id}\",\"starred_url\":\"https://api.github.com/users/naveenkrnl/starred{/owner}{/repo}\",\"subscriptions_url\":\"https://api.github.com/users/naveenkrnl/subscriptions\",\"organizations_url\":\"https://api.github.com/users/naveenkrnl/orgs\",\"repos_url\":\"https://api.github.com/users/naveenkrnl/repos\",\"events_url\":\"https://api.github.com/users/naveenkrnl/events{/privacy}\",\"received_events_url\":\"https://api.github.com/users/naveenkrnl/received_events\",\"type\":\"User\",\"site_admin\":false,\"name\":\"Naveen Arora\",\"company\":null,\"blog\":\"\",\"location\":\"karnal, Haryana\",\"email\":null,\"hireable\":true,\"bio\":\"A person known by deeds\",\"twitter_username\":null,\"public_repos\":33,\"public_gists\":0,\"followers\":33,\"following\":7,\"created_at\":\"2018-08-10T12:53:15Z\",\"updated_at\":\"2023-08-27T08:34:56Z\"}\n"
     ]
    }
   ],
   "source": [
    "print(r.text)"
   ]
  },
  {
   "cell_type": "code",
   "execution_count": null,
   "metadata": {},
   "outputs": [],
   "source": [
    "print(res.ok)"
   ]
  },
  {
   "cell_type": "markdown",
   "metadata": {},
   "source": [
    "#### JSON Response"
   ]
  },
  {
   "cell_type": "code",
   "execution_count": 89,
   "metadata": {},
   "outputs": [
    {
     "name": "stdout",
     "output_type": "stream",
     "text": [
      "<Response [200]>\n"
     ]
    }
   ],
   "source": [
    "# JAVASCRIPT OBJECT NOTATION\n",
    "# \n",
    "\n",
    "poke_res = requests.get('https://pokeapi.co/api/v2/pokemon/ditto')\n",
    "print(poke_res)\n",
    "                               "
   ]
  },
  {
   "cell_type": "code",
   "execution_count": 93,
   "metadata": {
    "scrolled": true
   },
   "outputs": [
    {
     "name": "stdout",
     "output_type": "stream",
     "text": [
      "abilities\n",
      "base_experience\n",
      "forms\n",
      "game_indices\n",
      "height\n",
      "held_items\n",
      "id\n",
      "is_default\n",
      "location_area_encounters\n",
      "moves\n",
      "name\n",
      "order\n",
      "past_types\n",
      "species\n",
      "sprites\n",
      "stats\n",
      "types\n",
      "weight\n"
     ]
    }
   ],
   "source": [
    "# print(poke_res.json())\n",
    "pokedict = poke_res.json()\n",
    "# print(pokedict.keys())\n",
    "# print(pokedict[\"moves\"][:10])\n",
    "\n",
    "for c in pokedict.keys():\n",
    "    print(c)"
   ]
  },
  {
   "cell_type": "code",
   "execution_count": null,
   "metadata": {},
   "outputs": [],
   "source": []
  },
  {
   "cell_type": "code",
   "execution_count": null,
   "metadata": {
    "scrolled": true
   },
   "outputs": [],
   "source": []
  },
  {
   "cell_type": "code",
   "execution_count": null,
   "metadata": {},
   "outputs": [],
   "source": []
  },
  {
   "cell_type": "code",
   "execution_count": null,
   "metadata": {
    "scrolled": true
   },
   "outputs": [],
   "source": []
  },
  {
   "cell_type": "code",
   "execution_count": null,
   "metadata": {
    "scrolled": true
   },
   "outputs": [],
   "source": [
    "https://api.weatherapi.com/v1/current.json?key=63473878db234c1e8a6172815230410&q=10462&aqi=no"
   ]
  },
  {
   "cell_type": "markdown",
   "metadata": {},
   "source": [
    "### Python Wrappers"
   ]
  },
  {
   "cell_type": "code",
   "execution_count": 101,
   "metadata": {},
   "outputs": [
    {
     "name": "stdout",
     "output_type": "stream",
     "text": [
      "dict_keys(['name', 'region', 'country', 'lat', 'lon', 'tz_id', 'localtime_epoch', 'localtime'])\n"
     ]
    }
   ],
   "source": [
    "base_url = \" http://api.weatherapi.com/v1\"\n",
    "api_method = \"/current.json\"\n",
    "key = \"63473878db234c1e8a6172815230410\"\n",
    "city = \"New York\"\n",
    "\n",
    "endpoint = f\"{base_url}{api_method}?key={key}&q={city}\"\n",
    "\n",
    "data = requests.get(endpoint).json()\n",
    "print(data['location'].keys())"
   ]
  },
  {
   "cell_type": "code",
   "execution_count": null,
   "metadata": {},
   "outputs": [],
   "source": []
  },
  {
   "cell_type": "code",
   "execution_count": 102,
   "metadata": {},
   "outputs": [
    {
     "name": "stdout",
     "output_type": "stream",
     "text": [
      "Current: 79.0\n",
      "Feels Like: 82.9\n"
     ]
    }
   ],
   "source": [
    "current_temp = data['current']['temp_f']\n",
    "print('Current:', current_temp)\n",
    "\n",
    "feels_like = data['current']['feelslike_f']\n",
    "print('Feels Like:', feels_like)"
   ]
  },
  {
   "cell_type": "code",
   "execution_count": 109,
   "metadata": {},
   "outputs": [],
   "source": [
    "\n",
    "class WeatherAPI:\n",
    "    base_url = 'https://api.weatherapi.com/v1'\n",
    "    \n",
    "    def __init__(self, api_key):\n",
    "        self.api_key = api_key\n",
    "        \n",
    "    def _get(self, city, api_method):\n",
    "        request_url = f\"{self.base_url}{api_method}?key={self.api_key}&q={city}\"\n",
    "        response = requests.get(request_url).json()\n",
    "        print(response['current'])\n",
    "        print(request_url)\n",
    "        \n",
    "        \n",
    "    def get_current_weather(self, city):\n",
    "        self._get(city, '/current.json')\n",
    "        "
   ]
  },
  {
   "cell_type": "code",
   "execution_count": 110,
   "metadata": {},
   "outputs": [
    {
     "name": "stdout",
     "output_type": "stream",
     "text": [
      "{'last_updated_epoch': 1696452300, 'last_updated': '2023-10-04 15:45', 'temp_c': 31.0, 'temp_f': 87.8, 'is_day': 1, 'condition': {'text': 'Patchy light rain with thunder', 'icon': '//cdn.weatherapi.com/weather/64x64/day/386.png', 'code': 1273}, 'wind_mph': 9.4, 'wind_kph': 15.1, 'wind_degree': 120, 'wind_dir': 'ESE', 'pressure_mb': 1008.0, 'pressure_in': 29.77, 'precip_mm': 0.0, 'precip_in': 0.0, 'humidity': 75, 'cloud': 75, 'feelslike_c': 40.5, 'feelslike_f': 104.9, 'vis_km': 10.0, 'vis_miles': 6.0, 'uv': 7.0, 'gust_mph': 8.1, 'gust_kph': 13.0}\n",
      "https://api.weatherapi.com/v1/current.json?key=63473878db234c1e8a6172815230410&q=Jamaica\n"
     ]
    }
   ],
   "source": [
    "client = WeatherAPI(key)\n",
    "client.get_current_weather(\"Jamaica\")\n",
    "    "
   ]
  },
  {
   "cell_type": "code",
   "execution_count": null,
   "metadata": {},
   "outputs": [],
   "source": []
  },
  {
   "cell_type": "code",
   "execution_count": null,
   "metadata": {},
   "outputs": [],
   "source": []
  },
  {
   "cell_type": "code",
   "execution_count": null,
   "metadata": {},
   "outputs": [],
   "source": []
  },
  {
   "cell_type": "code",
   "execution_count": null,
   "metadata": {},
   "outputs": [],
   "source": []
  },
  {
   "cell_type": "code",
   "execution_count": null,
   "metadata": {},
   "outputs": [],
   "source": []
  },
  {
   "cell_type": "markdown",
   "metadata": {},
   "source": [
    "# Exercise"
   ]
  },
  {
   "cell_type": "markdown",
   "metadata": {},
   "source": [
    "#### Pokemon API Wrapper"
   ]
  },
  {
   "cell_type": "markdown",
   "metadata": {},
   "source": [
    "Create a python wrapper for the Pokemon API. It should take in a pokemon name and create a Pokemon object. The Pokemon object should have, at a minimum, the Pokemon's name, height, and weight."
   ]
  },
  {
   "cell_type": "code",
   "execution_count": null,
   "metadata": {},
   "outputs": [
    {
     "data": {
      "text/html": [
       "<!-- https://github.com/DenverCoder1/readme-typing-svg/ -->\n",
       "<svg xmlns='http://www.w3.org/2000/svg'\n",
       "    xmlns:xlink='http://www.w3.org/1999/xlink'\n",
       "    viewBox='0 0 435 50'\n",
       "    style='background-color: #000000;'\n",
       "    width='435px' height='50px'>\n",
       "\n",
       "    \n",
       "                <path id='path0'>\n",
       "                            <!-- Single line -->\n",
       "                                <animate id='d0' attributeName='d' begin='0s;d0.end'\n",
       "                    dur='7000ms' fill='remove'\n",
       "                    values='m0,25 h0 ; m0,25 h435 ; m0,25 h435 ; m0,25 h0' keyTimes='0;0.57142857142857;0.85714285714286;1' />\n",
       "                    </path>\n",
       "    <text font-family='\"Righteous\", monospace' fill='#F7E400' font-size='30'\n",
       "        dominant-baseline='middle'\n",
       "        x='0%' text-anchor='start'>\n",
       "        <textPath xlink:href='#path0'>\n",
       "            Welcome To Pokemon GO!!\n",
       "        </textPath>\n",
       "    </text>\n",
       "</svg>\n"
      ],
      "text/plain": [
       "<IPython.core.display.HTML object>"
      ]
     },
     "metadata": {},
     "output_type": "display_data"
    },
    {
     "name": "stdout",
     "output_type": "stream",
     "text": [
      "Enter a pokemon to get started: pikachu\n",
      "====================\n",
      "====================\n",
      "\n",
      "Pokemon created!  Name: Pikachu\n",
      "Height: 4dm\n",
      "Weight: 60hg\n"
     ]
    },
    {
     "data": {
      "image/gif": "[encoded data removed]",
      "text/plain": [
       "<IPython.core.display.Image object>"
      ]
     },
     "metadata": {
      "image/gif": {
       "width": 100
      }
     },
     "output_type": "display_data"
    },
    {
     "name": "stdout",
     "output_type": "stream",
     "text": [
      "When several of\n",
      "these POKéMON\n",
      "gather, their\f",
      "electricity could\n",
      "build and cause\n",
      "lightning storms.\n",
      "It keeps its tail\n",
      "raised to monitor\n",
      "its surroundings.\f",
      "If you yank its\n",
      "tail, it will try\n",
      "to bite you.\n",
      "This intelligent\n",
      "POKéMON roasts\n",
      "hard BERRIES with\f",
      "electricity to\n",
      "make them tender\n",
      "enough to eat.\n",
      "It raises its tail\n",
      "to check its sur­\n",
      "roundings. The\f",
      "tail is sometimes\n",
      "struck by light­\n",
      "ning in this pose.\n",
      "Enter a pokemon to get started: raichu\n",
      "====================\n",
      "====================\n",
      "\n",
      "Pokemon created!  Name: Raichu\n",
      "Height: 8dm\n",
      "Weight: 300hg\n"
     ]
    },
    {
     "data": {
      "image/gif": "[encoded data removed]",
      "text/plain": [
       "<IPython.core.display.Image object>"
      ]
     },
     "metadata": {
      "image/gif": {
       "width": 100
      }
     },
     "output_type": "display_data"
    },
    {
     "name": "stdout",
     "output_type": "stream",
     "text": [
      "Its long tail\n",
      "serves as a\n",
      "ground to protect\f",
      "itself from its\n",
      "own high voltage\n",
      "power.\n",
      "Its long tail\n",
      "serves as a\n",
      "ground to protect\f",
      "itself from its\n",
      "own high voltage\n",
      "power.\n",
      "When electricity\n",
      "builds up inside\n",
      "its body, it\f",
      "becomes feisty.\n",
      "It also glows in\n",
      "the dark.\n",
      "When its electric­\n",
      "ity builds, its\n",
      "muscles are stimu­\f",
      "lated, and it be­\n",
      "comes more aggres­\n",
      "sive than usual.\n",
      "Enter a pokemon to get started: charmander\n",
      "====================\n",
      "====================\n",
      "\n",
      "Pokemon created!  Name: Charmander\n",
      "Height: 6dm\n",
      "Weight: 85hg\n"
     ]
    },
    {
     "data": {
      "image/gif": "[encoded data removed]",
      "text/plain": [
       "<IPython.core.display.Image object>"
      ]
     },
     "metadata": {
      "image/gif": {
       "width": 100
      }
     },
     "output_type": "display_data"
    },
    {
     "name": "stdout",
     "output_type": "stream",
     "text": [
      "Obviously prefers\n",
      "hot places. When\n",
      "it rains, steam\f",
      "is said to spout\n",
      "from the tip of\n",
      "its tail.\n",
      "The flame at the\n",
      "tip of its tail\n",
      "makes a sound as\f",
      "it burns. You can\n",
      "only hear it in\n",
      "quiet places.\n",
      "The flame on its\n",
      "tail shows the\n",
      "strength of its\f",
      "life force. If it\n",
      "is weak, the flame\n",
      "also burns weakly.\n",
      "The flame on its\n",
      "tail indicates\n",
      "CHARMANDER's life\f",
      "force. If it is\n",
      "healthy, the flame\n",
      "burns brightly.\n",
      "Enter a pokemon to get started: squirtle\n",
      "====================\n",
      "====================\n",
      "\n",
      "Pokemon created!  Name: Squirtle\n",
      "Height: 5dm\n",
      "Weight: 90hg\n"
     ]
    },
    {
     "data": {
      "image/gif": "[encoded data removed]",
      "text/plain": [
       "<IPython.core.display.Image object>"
      ]
     },
     "metadata": {
      "image/gif": {
       "width": 100
      }
     },
     "output_type": "display_data"
    },
    {
     "name": "stdout",
     "output_type": "stream",
     "text": [
      "After birth, its\n",
      "back swells and\n",
      "hardens into a\f",
      "shell. Powerfully\n",
      "sprays foam from\n",
      "its mouth.\n",
      "Shoots water at\n",
      "prey while in the\n",
      "water.\f",
      "Withdraws into\n",
      "its shell when in\n",
      "danger.\n",
      "The shell is soft\n",
      "when it is born.\n",
      "It soon becomes so\f",
      "resilient, prod­\n",
      "ding fingers will\n",
      "bounce off it.\n",
      "The shell, which\n",
      "hardens soon after\n",
      "it is born, is\f",
      "resilient. If you\n",
      "poke it, it will\n",
      "bounce back out.\n",
      "Enter a pokemon to get started: pigeoto\n",
      "Error finding Pokemon!\n"
     ]
    }
   ],
   "source": [
    "from IPython.display import Image, display, HTML\n",
    "\n",
    "import requests\n",
    "\n",
    "def displayWelcome(welcomeMsg):\n",
    "    welcomeMsg = welcomeMsg.replace(' ', '+')\n",
    "    welcomeTyping = f\"https://readme-typing-svg.herokuapp.com?font=Righteous&weight=800&size=30&duration=5000&pause=2000&color=F7E400&background=000000&vCenter=true&width=435&lines={welcomeMsg}\"\n",
    "    welcomeType = requests.get(welcomeTyping)\n",
    "    html_content = welcomeType.content.decode('utf-8')\n",
    "    display(HTML(html_content))\n",
    "\n",
    "class Pokemon:\n",
    "    base_url = \"https://pokeapi.co/api/v2/pokemon/\"\n",
    "    \n",
    "    def __init__(self, name):\n",
    "        \n",
    "        res = requests.get(f'{self.base_url}{name}')\n",
    "        if res.ok:\n",
    "            data = res.json()\n",
    "            self.name = data['name'].title()\n",
    "            self.height = data['height']\n",
    "            self.weight = data['weight']\n",
    "            self.speciesURL = data['species']['url']\n",
    "            self._getSpeciesInfo()\n",
    "\n",
    "            \n",
    "            print(f\"Pokemon created!  Name: {self.name}\\nHeight: {self.height}dm\\nWeight: {self.weight}hg\")\n",
    "            self.url = data['sprites']['versions']['generation-v']['black-white']['animated']['front_default']\n",
    "            \n",
    "            display(Image(self.url, width=100))\n",
    "            [print(flavor) for flavor in self.flavors]\n",
    "            \n",
    "        else:\n",
    "            print(\"Error finding Pokemon!\")\n",
    "            \n",
    "    def __str__(self):\n",
    "        return f\"{type(self)} {self.name}\"\n",
    "    \n",
    "    def _getSpeciesInfo(self):\n",
    "        data = requests.get(self.speciesURL).json()\n",
    "#         print(data['flavor_text_entries'])\n",
    "        print('='*20)\n",
    "    \n",
    "        self.flavors = [flavor['flavor_text'] for flavor in data['flavor_text_entries'][1:5]]\n",
    "        print('='*20, end='\\n\\n')\n",
    "            \n",
    "\n",
    "\n",
    "displayWelcome(\"Welcome To Pokemon GO!!\")\n",
    "\n",
    "while True:\n",
    "    name = input(\"Enter a pokemon to get started: \").lower().strip()\n",
    "    if name == \"quit\":\n",
    "        break\n",
    "    pokemon = Pokemon(name)\n",
    "    \n",
    "displayWelcome(\"Thanks for stopping by!\")\n",
    "    "
   ]
  },
  {
   "cell_type": "code",
   "execution_count": null,
   "metadata": {},
   "outputs": [],
   "source": [
    "displayWelcome(\"Welcome To Pokemon GO!!\")\n"
   ]
  },
  {
   "cell_type": "code",
   "execution_count": 1,
   "metadata": {},
   "outputs": [
    {
     "name": "stdout",
     "output_type": "stream",
     "text": [
      "20\n"
     ]
    }
   ],
   "source": [
    "print(20)"
   ]
  },
  {
   "cell_type": "code",
   "execution_count": null,
   "metadata": {},
   "outputs": [],
   "source": []
  },
  {
   "cell_type": "code",
   "execution_count": null,
   "metadata": {},
   "outputs": [],
   "source": []
  },
  {
   "cell_type": "code",
   "execution_count": null,
   "metadata": {},
   "outputs": [],
   "source": []
  }
 ],
 "metadata": {
  "kernelspec": {
   "display_name": "Python 3 (ipykernel)",
   "language": "python",
   "name": "python3"
  },
  "language_info": {
   "codemirror_mode": {
    "name": "ipython",
    "version": 3
   },
   "file_extension": ".py",
   "mimetype": "text/x-python",
   "name": "python",
   "nbconvert_exporter": "python",
   "pygments_lexer": "ipython3",
   "version": "3.11.4"
  }
 },
 "nbformat": 4,
 "nbformat_minor": 4
}
